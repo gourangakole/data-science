{
 "cells": [
  {
   "cell_type": "markdown",
   "metadata": {},
   "source": [
    "# Understanding Logistic Regressing, Decision Tree Classifier, KNeighborsClassifier with cross validation score, accuracy score and metrics."
   ]
  },
  {
   "cell_type": "markdown",
   "metadata": {},
   "source": [
    "# Problem 1"
   ]
  },
  {
   "cell_type": "code",
   "execution_count": 74,
   "metadata": {
    "collapsed": true
   },
   "outputs": [],
   "source": [
    "import numpy as np\n",
    "import pandas as pd\n",
    "from sklearn.linear_model import LogisticRegression\n",
    "from sklearn.model_selection import train_test_split\n",
    "from sklearn.cross_validation import cross_val_score\n",
    "from sklearn.neighbors import KNeighborsClassifier\n",
    "from sklearn.metrics import accuracy_score\n",
    "from sklearn.tree import DecisionTreeClassifier"
   ]
  },
  {
   "cell_type": "code",
   "execution_count": 75,
   "metadata": {
    "scrolled": true
   },
   "outputs": [
    {
     "name": "stdout",
     "output_type": "stream",
     "text": [
      "   Age Gender     ChestPain  RestBP  Chol  RestECG  MaxHR  Oldpeak  \\\n",
      "0   63      f       typical     145   233        2    150      2.3   \n",
      "1   67      f  asymptomatic     160   286        2    108      1.5   \n",
      "2   67      f  asymptomatic     120   229        2    129      2.6   \n",
      "3   37      f    nonanginal     130   250        0    187      3.5   \n",
      "4   41      m    nontypical     130   204        2    172      1.4   \n",
      "\n",
      "         Thal  AHD  \n",
      "0       fixed   No  \n",
      "1      normal  Yes  \n",
      "2  reversable  Yes  \n",
      "3      normal   No  \n",
      "4      normal   No  \n",
      "303\n"
     ]
    }
   ],
   "source": [
    "data_set = pd.read_csv(\"heart.csv\")\n",
    "\n",
    "print(data_set.head())\n",
    "\n",
    "feature_col = ['Age', 'RestBP', 'Chol', 'RestECG', 'MaxHR', 'Oldpeak']\n",
    "\n",
    "X = data_set[feature_col]\n",
    "\n",
    "Y = data_set['AHD']\n",
    "print(Y.size)\n",
    "\n",
    "X_Train, X_Test, Y_Train, Y_Test = train_test_split(X, Y, test_size=0.3, random_state=3)\n",
    "\n",
    "#print(X_Train.shape)\n",
    "#\n",
    "#print(Y_Train.shape)\n",
    "#\n",
    "#print(X_Test.shape)\n",
    "#\n",
    "#print(Y_Test.shape)\n"
   ]
  },
  {
   "cell_type": "code",
   "execution_count": 76,
   "metadata": {},
   "outputs": [
    {
     "name": "stdout",
     "output_type": "stream",
     "text": [
      "Part E\n",
      "Accuracy of knn: 0.626373626374\n",
      "Accuracy of Logistic Regression: 0.725274725275\n",
      "Accuracy of decision tree: 0.604395604396\n"
     ]
    }
   ],
   "source": [
    "def knn(x_train,y_train,x_test,y_test):\n",
    "    #funtions for knn\n",
    "    train_knn = KNeighborsClassifier(n_neighbors=5)\n",
    "    train_knn.fit(x_train,y_train)\n",
    "    \n",
    "    x_predic = train_knn.predict(x_test)\n",
    "    \n",
    "    score= accuracy_score(y_test,x_predic)\n",
    "    \n",
    "    print(\"Accuracy of knn: \" + str(score))\n",
    "    \n",
    "        \n",
    "def logreg(x_train,y_train,x_test,y_test):\n",
    "    logreg = LogisticRegression()\n",
    "    \n",
    "    logreg.fit(x_train, y_train)\n",
    "    \n",
    "    #x_testing = [[4, 7, 5.9, 2.9, 4, 2],[4, 1.2, 3.2, 3.1, 1.0, 0.2]]\n",
    "    \n",
    "    y_pred = logreg.predict(x_test)\n",
    "    score_lg = accuracy_score(y_test,y_pred)\n",
    "    print(\"Accuracy of Logistic Regression: \" + str(score_lg))\n",
    "\n",
    "\n",
    "def dtreec(x_train,y_train,x_test,y_test):\n",
    "    dectree = DecisionTreeClassifier()\n",
    "    \n",
    "    dectree.fit(x_train, y_train)\n",
    "    \n",
    "    #x_testing = [[1.2, 1, 4, 7, 5.9, 2.9],[4.5, 1.9, 3.2, 3.1, 1.0, 0.2]]\n",
    "    \n",
    "    y_pred = dectree.predict(x_test)   \n",
    "    \n",
    "    score = accuracy_score(y_test,y_pred)\n",
    "    \n",
    "    \n",
    "    print(\"Accuracy of decision tree: \" + str(score))\n",
    "   \n",
    "print(\"Part E\")    \n",
    "knn(X_Train,Y_Train,X_Test,Y_Test)\n",
    "logreg(X_Train,Y_Train,X_Test,Y_Test)\n",
    "dtreec(X_Train,Y_Train,X_Test,Y_Test)\n"
   ]
  },
  {
   "cell_type": "code",
   "execution_count": 77,
   "metadata": {},
   "outputs": [
    {
     "name": "stdout",
     "output_type": "stream",
     "text": [
      "\n",
      "New Data Set\n",
      "4545\n",
      "303\n",
      "   Age  RestBP  Chol  RestECG  MaxHR  Oldpeak  Gender_f  Gender_m  \\\n",
      "0   63     145   233        2    150      2.3         1         0   \n",
      "1   67     160   286        2    108      1.5         1         0   \n",
      "2   67     120   229        2    129      2.6         1         0   \n",
      "3   37     130   250        0    187      3.5         1         0   \n",
      "4   41     130   204        2    172      1.4         0         1   \n",
      "\n",
      "   ChestPain_asymptomatic  ChestPain_nonanginal  ChestPain_nontypical  \\\n",
      "0                       0                     0                     0   \n",
      "1                       1                     0                     0   \n",
      "2                       1                     0                     0   \n",
      "3                       0                     1                     0   \n",
      "4                       0                     0                     1   \n",
      "\n",
      "   ChestPain_typical  Thal_fixed  Thal_normal  Thal_reversable  \n",
      "0                  1           1            0                0  \n",
      "1                  0           0            1                0  \n",
      "2                  0           0            0                1  \n",
      "3                  0           0            1                0  \n",
      "4                  0           0            1                0  \n"
     ]
    }
   ],
   "source": [
    "new_data_set = pd.get_dummies(data_set, columns=['Gender', 'ChestPain', 'Thal'])\n",
    "print(\"\")\n",
    "print(\"New Data Set\")\n",
    "new_feature_col = ['Age','RestBP','Chol', 'RestECG', 'MaxHR', 'Oldpeak', 'Gender_f', 'Gender_m', 'ChestPain_asymptomatic','ChestPain_nonanginal','ChestPain_nontypical','ChestPain_typical','Thal_fixed','Thal_normal', 'Thal_reversable']\n",
    "new_x = new_data_set[new_feature_col]\n",
    "\n",
    "\n",
    "print(new_x.size)\n",
    "new_y = new_data_set['AHD']\n",
    "print(new_y.size)\n",
    "print(new_x.head())"
   ]
  },
  {
   "cell_type": "code",
   "execution_count": 78,
   "metadata": {},
   "outputs": [
    {
     "name": "stdout",
     "output_type": "stream",
     "text": [
      "\n",
      "Part G\n",
      "Accuracy of knn: 0.626373626374\n",
      "Accuracy of decision tree: 0.802197802198\n",
      "Accuracy of Logistic Regression: 0.846153846154\n"
     ]
    }
   ],
   "source": [
    "print(\"\")\n",
    "print(\"Part G\")\n",
    "New_X_Train, New_X_Test, New_Y_Train, New_Y_Test = train_test_split(new_x,new_y, test_size=0.3, random_state=3)\n",
    "train_knn_v2 = KNeighborsClassifier(n_neighbors=5)\n",
    "train_knn_v2.fit(New_X_Train, New_Y_Train)    \n",
    "new_x_predic = train_knn_v2.predict(New_X_Test)    \n",
    "new_score= accuracy_score(New_Y_Test,new_x_predic)    \n",
    "print(\"Accuracy of knn: \" + str(new_score))\n",
    "\n",
    "dectree_v2 = DecisionTreeClassifier()\n",
    "dectree_v2.fit(New_X_Train, New_Y_Train)\n",
    "x_pred = dectree_v2.predict(New_X_Test)   \n",
    "ds_score = accuracy_score(New_Y_Test,x_pred)\n",
    "print(\"Accuracy of decision tree: \" + str(ds_score))\n",
    "\n",
    "\n",
    "logreg = LogisticRegression()    \n",
    "logreg.fit(New_X_Train, New_Y_Train)    \n",
    "y_pred = logreg.predict(New_X_Test)\n",
    "score_lg = accuracy_score(New_Y_Test,y_pred)\n",
    "print(\"Accuracy of Logistic Regression: \" + str(score_lg))"
   ]
  },
  {
   "cell_type": "code",
   "execution_count": 79,
   "metadata": {},
   "outputs": [
    {
     "name": "stdout",
     "output_type": "stream",
     "text": [
      "\n",
      "Part H\n",
      "Accuracy of with cross validation for KNN:0.80245036301\n",
      "Accuracy of with cross validation for Decision Tree:0.836097011614\n",
      "Accuracy of with cross validation for Logistic Regression: 0.900870917137\n"
     ]
    }
   ],
   "source": [
    "print(\"\") \n",
    "print(\"Part H\")\n",
    "\n",
    "logreg = LogisticRegression()\n",
    "accuracy_logist = cross_val_score(logreg, new_x, new_y, cv=10, scoring='accuracy')\n",
    "accuracy_cv =accuracy_logist.mean()        \n",
    "new_rmse=np.sqrt(accuracy_cv)\n",
    "\n",
    "accuracy_logist = cross_val_score(train_knn_v2, new_x, new_y, cv=10, scoring='accuracy')\n",
    "accuracy_cv =accuracy_logist.mean()\n",
    "new_rmse_k=np.sqrt(accuracy_cv)\n",
    "\n",
    "accuracy_logist = cross_val_score(dectree_v2, new_x, new_y, cv=10, scoring='accuracy')\n",
    "accuracy_cv =accuracy_logist.mean()\n",
    "new_rmse_d=np.sqrt(accuracy_cv)\n",
    "\n",
    "print(\"Accuracy of with cross validation for KNN:\" + str(new_rmse_k))\n",
    "print(\"Accuracy of with cross validation for Decision Tree:\" + str(new_rmse_d))\n",
    "print(\"Accuracy of with cross validation for Logistic Regression: \" + str(new_rmse)) \n",
    "\n",
    "\n",
    " "
   ]
  },
  {
   "cell_type": "markdown",
   "metadata": {},
   "source": [
    "# Problem 2"
   ]
  },
  {
   "cell_type": "code",
   "execution_count": 80,
   "metadata": {
    "collapsed": true
   },
   "outputs": [],
   "source": [
    "import numpy as np\n",
    "import pandas as pd\n",
    "from sklearn import metrics\n",
    "from sklearn.linear_model import LinearRegression\n",
    "from sklearn.model_selection import train_test_split\n",
    "from sklearn.cross_validation import cross_val_score\n",
    " \n"
   ]
  },
  {
   "cell_type": "code",
   "execution_count": 81,
   "metadata": {},
   "outputs": [
    {
     "name": "stdout",
     "output_type": "stream",
     "text": [
      "      Income  Limit  Rating  Cards  Age  Education  Married  Balance\n",
      "0     14.891   3606     283      2   34         11        1      333\n",
      "10    63.095   8117     589      4   30         14        1     1407\n",
      "20    17.700   2860     235      4   63         16        0       89\n",
      "30    34.142   5666     413      4   47          5        1      863\n",
      "40    34.950   3327     253      3   54         14        0       50\n",
      "50    36.362   5183     376      3   49         15        1      654\n",
      "60    35.510   5198     364      2   35         20        0      631\n",
      "70    24.889   3954     318      4   75         12        1      357\n",
      "80    27.369   3449     288      3   40          9        1      162\n",
      "90    20.191   5767     431      4   42         16        1     1023\n",
      "100   21.153   3736     256      1   41         11        0      298\n",
      "110   34.537   3271     250      3   57         17        1       47\n",
      "120   27.241   1402     128      2   67         15        1        0\n",
      "130   23.793   3821     281      4   56         12        1      868\n",
      "140   39.831   6045     459      3   32         12        1     1425\n",
      "150   63.931   5728     435      3   28         14        1      581\n",
      "160   12.238   4865     381      5   67         11        0      836\n",
      "170   34.772   2021     167      3   57          9        0        0\n",
      "180   10.635   3584     294      5   69         16        1      423\n",
      "190   55.187   5352     385      4   50         17        1      538\n",
      "200   23.949   5343     383      2   40         18        1      829\n",
      "210   24.543   3206     243      2   62         12        1       95\n",
      "220   44.847   5765     437      3   53         13        0     1246\n",
      "230   33.214   5137     387      3   59          9        0      661\n",
      "240   29.705   3351     262      5   71         14        1      148\n",
      "250   10.363   2430     191      2   47         18        1        0\n",
      "260   67.937   5184     383      4   63         12        1      345\n",
      "270   15.866   3085     217      1   39         13        0      136\n",
      "280   53.401   5319     377      3   35         12        0      541\n",
      "290   26.370   3235     268      5   78         11        1      159\n",
      "300   21.786   4632     355      1   50         17        1      580\n",
      "310   33.694   4891     369      1   52         16        0     1036\n",
      "320   16.279   1160     126      3   78         13        1        5\n",
      "330   20.405   4543     329      2   72         17        0     1054\n",
      "340   27.794   3807     301      4   35          8        1      320\n",
      "350   30.002   1561     155      4   70         13        1        0\n",
      "360   53.566   5891     434      4   82         10        0      712\n",
      "370   35.610   6135     466      4   40         12        0      992\n",
      "380  115.123   7760     538      3   83         14        0      661\n",
      "390  135.118  10578     747      3   81         15        1     1393\n",
      "(400, 7)\n",
      "    Income  Limit  Rating  Cards  Age  Education  Married\n",
      "0   14.891   3606     283      2   34         11        1\n",
      "1  106.025   6645     483      3   82         15        1\n",
      "2  104.593   7075     514      4   71         11        0\n",
      "3  148.924   9504     681      3   36         11        0\n",
      "4   55.882   4897     357      2   68         16        1\n",
      "400\n",
      "   Balance\n",
      "0      333\n",
      "1      903\n",
      "2      580\n",
      "3      964\n",
      "4      331\n"
     ]
    }
   ],
   "source": [
    "data_set = pd.read_csv(\"credit.csv\")\n",
    "\n",
    "print(data_set[0::10\n",
    "               ])\n",
    "feature_col = ['Income',  'Limit',  'Rating',  'Cards',  'Age',  'Education',  'Married']\n",
    "\n",
    "X = data_set[feature_col]\n",
    "\n",
    "print(X.shape)\n",
    "print(X.head())\n",
    "feature = ['Balance']\n",
    "Y = data_set[feature]\n",
    "print(Y.size) \n",
    "print(Y.head())"
   ]
  },
  {
   "cell_type": "code",
   "execution_count": 82,
   "metadata": {},
   "outputs": [
    {
     "name": "stdout",
     "output_type": "stream",
     "text": [
      "(320, 7)\n",
      "(320, 1)\n",
      "(80, 7)\n",
      "(80, 1)\n"
     ]
    },
    {
     "data": {
      "text/plain": [
       "LinearRegression(copy_X=True, fit_intercept=True, n_jobs=1, normalize=False)"
      ]
     },
     "execution_count": 82,
     "metadata": {},
     "output_type": "execute_result"
    }
   ],
   "source": [
    "X_Train, X_Test, Y_Train, Y_Test = train_test_split(X, Y, test_size=0.2, random_state=2)\n",
    "\n",
    "print(X_Train.shape)\n",
    "\n",
    "print(Y_Train.shape)\n",
    "\n",
    "print(X_Test.shape)\n",
    "\n",
    "print(Y_Test.shape)\n",
    "\n",
    "my_linreg = LinearRegression()\n",
    "\n",
    "my_linreg.fit(X_Train,Y_Train)"
   ]
  },
  {
   "cell_type": "code",
   "execution_count": 83,
   "metadata": {},
   "outputs": [
    {
     "name": "stdout",
     "output_type": "stream",
     "text": [
      "RMSE 154.410746767\n",
      "Cross Validation 160.331989107\n"
     ]
    }
   ],
   "source": [
    "#print(my_linreg.intercept_)\n",
    "#print(my_linreg.coef_)\n",
    "\n",
    "prediction = my_linreg.predict(X_Test)\n",
    "#print(prediction)\n",
    "\n",
    "mse = metrics.mean_squared_error(Y_Test, prediction)\n",
    "\n",
    "rmse = np.sqrt(mse)\n",
    "\n",
    "print(\"RMSE \" + str(rmse))\n",
    "\n",
    "my_linreg = LinearRegression()\n",
    "mse_list = cross_val_score(my_linreg, X, Y, cv=10, scoring='neg_mean_squared_error')\n",
    "\n",
    "#print(mse_list)\n",
    "\n",
    "mse_list_positive = -mse_list\n",
    "\n",
    "rmse_list = np.sqrt(mse_list_positive)\n",
    "#print(rmse_list)\n",
    "print(\"Cross Validation \" + str(rmse_list.mean()))\n",
    "\n",
    "\n"
   ]
  },
  {
   "cell_type": "code",
   "execution_count": null,
   "metadata": {
    "collapsed": true
   },
   "outputs": [],
   "source": []
  },
  {
   "cell_type": "code",
   "execution_count": null,
   "metadata": {
    "collapsed": true
   },
   "outputs": [],
   "source": []
  },
  {
   "cell_type": "code",
   "execution_count": null,
   "metadata": {
    "collapsed": true
   },
   "outputs": [],
   "source": []
  },
  {
   "cell_type": "code",
   "execution_count": null,
   "metadata": {
    "collapsed": true
   },
   "outputs": [],
   "source": []
  }
 ],
 "metadata": {
  "kernelspec": {
   "display_name": "Python 3",
   "language": "python",
   "name": "python3"
  },
  "language_info": {
   "codemirror_mode": {
    "name": "ipython",
    "version": 3
   },
   "file_extension": ".py",
   "mimetype": "text/x-python",
   "name": "python",
   "nbconvert_exporter": "python",
   "pygments_lexer": "ipython3",
   "version": "3.6.1"
  }
 },
 "nbformat": 4,
 "nbformat_minor": 2
}
