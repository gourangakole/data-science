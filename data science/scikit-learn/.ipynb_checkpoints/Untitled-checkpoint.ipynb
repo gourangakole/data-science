{
 "cells": [
  {
   "cell_type": "markdown",
   "metadata": {},
   "source": [
    "# Homework 2 Problem 2:"
   ]
  },
  {
   "cell_type": "markdown",
   "metadata": {},
   "source": [
    "# Question2:\n",
    "KNN Classification in sklearn\n",
    "Write \n",
    "and  submit \n",
    "your  python  codes  in \n",
    "“\n",
    "Jupyter  Notebook\n",
    "”\n",
    "to  perform  the  following  tasks\n",
    "(submit the .ipynb file)\n",
    ". \n",
    "Make sure to provide proper descriptions as MarkDown for each section \n",
    "of \n",
    "your code\n",
    "(\n",
    "each section of the code \n",
    "must\n",
    "have a \n",
    "short \n",
    "meaningful description right before \n",
    "that\n",
    ",\n",
    "describing what this part of \n",
    "the code is \n",
    "supposed to do\n",
    "!)"
   ]
  },
  {
   "cell_type": "code",
   "execution_count": 103,
   "metadata": {
    "collapsed": true
   },
   "outputs": [],
   "source": [
    "import pandas as pd\n",
    "from sklearn.model_selection import train_test_split \n",
    "from sklearn.neighbors import KNeighborsClassifier\n",
    "from sklearn.metrics import accuracy_score"
   ]
  },
  {
   "cell_type": "code",
   "execution_count": 104,
   "metadata": {
    "collapsed": true
   },
   "outputs": [],
   "source": [
    "iris_data = pd.read_csv('https://raw.githubusercontent.com/mpourhoma/CS4661/master/iris.csv')"
   ]
  },
  {
   "cell_type": "code",
   "execution_count": 105,
   "metadata": {
    "collapsed": true
   },
   "outputs": [],
   "source": [
    "df = pd.DataFrame(iris_data)"
   ]
  },
  {
   "cell_type": "code",
   "execution_count": 106,
   "metadata": {},
   "outputs": [
    {
     "name": "stdout",
     "output_type": "stream",
     "text": [
      "     sepal_length  sepal_width  petal_length  petal_width    species\n",
      "0             5.1          3.5           1.4          0.2     setosa\n",
      "1             4.9          3.0           1.4          0.2     setosa\n",
      "2             4.7          3.2           1.3          0.2     setosa\n",
      "3             4.6          3.1           1.5          0.2     setosa\n",
      "4             5.0          3.6           1.4          0.2     setosa\n",
      "5             5.4          3.9           1.7          0.4     setosa\n",
      "6             4.6          3.4           1.4          0.3     setosa\n",
      "7             5.0          3.4           1.5          0.2     setosa\n",
      "8             4.4          2.9           1.4          0.2     setosa\n",
      "9             4.9          3.1           1.5          0.1     setosa\n",
      "10            5.4          3.7           1.5          0.2     setosa\n",
      "11            4.8          3.4           1.6          0.2     setosa\n",
      "12            4.8          3.0           1.4          0.1     setosa\n",
      "13            4.3          3.0           1.1          0.1     setosa\n",
      "14            5.8          4.0           1.2          0.2     setosa\n",
      "15            5.7          4.4           1.5          0.4     setosa\n",
      "16            5.4          3.9           1.3          0.4     setosa\n",
      "17            5.1          3.5           1.4          0.3     setosa\n",
      "18            5.7          3.8           1.7          0.3     setosa\n",
      "19            5.1          3.8           1.5          0.3     setosa\n",
      "20            5.4          3.4           1.7          0.2     setosa\n",
      "21            5.1          3.7           1.5          0.4     setosa\n",
      "22            4.6          3.6           1.0          0.2     setosa\n",
      "23            5.1          3.3           1.7          0.5     setosa\n",
      "24            4.8          3.4           1.9          0.2     setosa\n",
      "25            5.0          3.0           1.6          0.2     setosa\n",
      "26            5.0          3.4           1.6          0.4     setosa\n",
      "27            5.2          3.5           1.5          0.2     setosa\n",
      "28            5.2          3.4           1.4          0.2     setosa\n",
      "29            4.7          3.2           1.6          0.2     setosa\n",
      "..            ...          ...           ...          ...        ...\n",
      "120           6.9          3.2           5.7          2.3  virginica\n",
      "121           5.6          2.8           4.9          2.0  virginica\n",
      "122           7.7          2.8           6.7          2.0  virginica\n",
      "123           6.3          2.7           4.9          1.8  virginica\n",
      "124           6.7          3.3           5.7          2.1  virginica\n",
      "125           7.2          3.2           6.0          1.8  virginica\n",
      "126           6.2          2.8           4.8          1.8  virginica\n",
      "127           6.1          3.0           4.9          1.8  virginica\n",
      "128           6.4          2.8           5.6          2.1  virginica\n",
      "129           7.2          3.0           5.8          1.6  virginica\n",
      "130           7.4          2.8           6.1          1.9  virginica\n",
      "131           7.9          3.8           6.4          2.0  virginica\n",
      "132           6.4          2.8           5.6          2.2  virginica\n",
      "133           6.3          2.8           5.1          1.5  virginica\n",
      "134           6.1          2.6           5.6          1.4  virginica\n",
      "135           7.7          3.0           6.1          2.3  virginica\n",
      "136           6.3          3.4           5.6          2.4  virginica\n",
      "137           6.4          3.1           5.5          1.8  virginica\n",
      "138           6.0          3.0           4.8          1.8  virginica\n",
      "139           6.9          3.1           5.4          2.1  virginica\n",
      "140           6.7          3.1           5.6          2.4  virginica\n",
      "141           6.9          3.1           5.1          2.3  virginica\n",
      "142           5.8          2.7           5.1          1.9  virginica\n",
      "143           6.8          3.2           5.9          2.3  virginica\n",
      "144           6.7          3.3           5.7          2.5  virginica\n",
      "145           6.7          3.0           5.2          2.3  virginica\n",
      "146           6.3          2.5           5.0          1.9  virginica\n",
      "147           6.5          3.0           5.2          2.0  virginica\n",
      "148           6.2          3.4           5.4          2.3  virginica\n",
      "149           5.9          3.0           5.1          1.8  virginica\n",
      "\n",
      "[150 rows x 5 columns]\n"
     ]
    }
   ],
   "source": [
    "print(df)"
   ]
  },
  {
   "cell_type": "code",
   "execution_count": 107,
   "metadata": {
    "collapsed": true
   },
   "outputs": [],
   "source": [
    "feature_col = ['sepal_length',  'sepal_width',  'petal_length',  'petal_width'  ]"
   ]
  },
  {
   "cell_type": "code",
   "execution_count": 108,
   "metadata": {},
   "outputs": [],
   "source": [
    "X = df[feature_col]"
   ]
  },
  {
   "cell_type": "code",
   "execution_count": 109,
   "metadata": {},
   "outputs": [
    {
     "name": "stdout",
     "output_type": "stream",
     "text": [
      "(150, 4)\n"
     ]
    }
   ],
   "source": [
    "print(X.shape)"
   ]
  },
  {
   "cell_type": "code",
   "execution_count": 110,
   "metadata": {
    "scrolled": true
   },
   "outputs": [],
   "source": [
    "Y = df['species']"
   ]
  },
  {
   "cell_type": "code",
   "execution_count": 111,
   "metadata": {},
   "outputs": [
    {
     "name": "stdout",
     "output_type": "stream",
     "text": [
      "(150,)\n"
     ]
    }
   ],
   "source": [
    "print(Y.shape)"
   ]
  },
  {
   "cell_type": "code",
   "execution_count": 112,
   "metadata": {},
   "outputs": [],
   "source": [
    "X_Train, X_Test, Y_Train, Y_Test = train_test_split(X,Y, test_size=0.4, random_state=1)"
   ]
  },
  {
   "cell_type": "code",
   "execution_count": 113,
   "metadata": {},
   "outputs": [
    {
     "name": "stdout",
     "output_type": "stream",
     "text": [
      "(90, 4)\n",
      "(90,)\n"
     ]
    }
   ],
   "source": [
    "print(X_Train.shape)\n",
    "print(Y_Train.shape)"
   ]
  },
  {
   "cell_type": "code",
   "execution_count": 114,
   "metadata": {},
   "outputs": [
    {
     "name": "stdout",
     "output_type": "stream",
     "text": [
      "(60, 4)\n",
      "(60,)\n"
     ]
    }
   ],
   "source": [
    "print(X_Test.shape)\n",
    "print(Y_Test.shape)"
   ]
  },
  {
   "cell_type": "code",
   "execution_count": 115,
   "metadata": {},
   "outputs": [],
   "source": [
    "k = 3\n",
    "train_knn_one = KNeighborsClassifier(n_neighbors = 1)"
   ]
  },
  {
   "cell_type": "code",
   "execution_count": 116,
   "metadata": {
    "scrolled": true
   },
   "outputs": [
    {
     "data": {
      "text/plain": [
       "KNeighborsClassifier(algorithm='auto', leaf_size=30, metric='minkowski',\n",
       "           metric_params=None, n_jobs=1, n_neighbors=1, p=2,\n",
       "           weights='uniform')"
      ]
     },
     "execution_count": 116,
     "metadata": {},
     "output_type": "execute_result"
    }
   ],
   "source": [
    "train_knn_one.fit(X_Train,Y_Train)"
   ]
  },
  {
   "cell_type": "code",
   "execution_count": null,
   "metadata": {
    "collapsed": true
   },
   "outputs": [],
   "source": []
  },
  {
   "cell_type": "code",
   "execution_count": 117,
   "metadata": {},
   "outputs": [],
   "source": [
    "X_Testing = [[2.3, 1, 1.2, 5], [7.1, 3, 8.2, 3]]\n",
    "Y_Testing = [[3, 1, 9.2, 7], [1, 2, 3, 4]]"
   ]
  },
  {
   "cell_type": "code",
   "execution_count": 118,
   "metadata": {
    "collapsed": true
   },
   "outputs": [],
   "source": [
    "X_Testing_Prediction = train_knn_one.predict(X_Testing)\n",
    "Y_Testing_Prediction = train_knn_one.predict(Y_Testing)"
   ]
  },
  {
   "cell_type": "code",
   "execution_count": 119,
   "metadata": {},
   "outputs": [
    {
     "name": "stdout",
     "output_type": "stream",
     "text": [
      "['setosa' 'virginica']\n",
      "['virginica' 'virginica']\n"
     ]
    }
   ],
   "source": [
    "print(X_Testing_Prediction)\n",
    "print(Y_Testing_Prediction)"
   ]
  },
  {
   "cell_type": "code",
   "execution_count": 120,
   "metadata": {},
   "outputs": [
    {
     "name": "stdout",
     "output_type": "stream",
     "text": [
      "(60, 4)\n",
      "(60,)\n"
     ]
    }
   ],
   "source": [
    "print(X_Test.shape)\n",
    "print(Y_Test.shape)"
   ]
  },
  {
   "cell_type": "code",
   "execution_count": 121,
   "metadata": {},
   "outputs": [
    {
     "name": "stdout",
     "output_type": "stream",
     "text": [
      "['setosa' 'virginica' 'virginica' 'setosa' 'setosa' 'virginica' 'setosa'\n",
      " 'virginica' 'virginica' 'versicolor' 'versicolor' 'virginica' 'virginica'\n",
      " 'setosa' 'versicolor' 'versicolor' 'virginica' 'versicolor' 'virginica'\n",
      " 'versicolor' 'setosa' 'setosa' 'setosa' 'virginica' 'setosa' 'versicolor'\n",
      " 'virginica' 'virginica' 'setosa' 'setosa' 'versicolor' 'setosa'\n",
      " 'virginica' 'versicolor' 'virginica' 'virginica' 'versicolor' 'virginica'\n",
      " 'virginica' 'versicolor' 'setosa' 'versicolor' 'setosa' 'versicolor'\n",
      " 'versicolor' 'setosa' 'versicolor' 'setosa' 'setosa' 'virginica'\n",
      " 'virginica' 'virginica' 'setosa' 'setosa' 'versicolor' 'setosa'\n",
      " 'virginica' 'setosa' 'virginica' 'virginica' 'setosa' 'virginica' 'setosa'\n",
      " 'versicolor' 'setosa' 'versicolor' 'versicolor' 'setosa' 'setosa'\n",
      " 'versicolor' 'setosa' 'versicolor' 'versicolor' 'setosa' 'versicolor'\n",
      " 'versicolor' 'versicolor' 'versicolor' 'virginica' 'setosa' 'setosa'\n",
      " 'virginica' 'versicolor' 'virginica' 'versicolor' 'virginica' 'virginica'\n",
      " 'versicolor' 'virginica' 'setosa']\n"
     ]
    }
   ],
   "source": [
    "X_Train_Data = train_knn_one.predict(X_Train)\n",
    "print(X_Train_Data)"
   ]
  },
  {
   "cell_type": "code",
   "execution_count": 134,
   "metadata": {
    "collapsed": true
   },
   "outputs": [],
   "source": [
    "pre = [0,2,1,1]\n",
    "actual = [0,2,2,1]"
   ]
  },
  {
   "cell_type": "code",
   "execution_count": 135,
   "metadata": {},
   "outputs": [
    {
     "name": "stdout",
     "output_type": "stream",
     "text": [
      "0.75\n"
     ]
    }
   ],
   "source": [
    "score = accuracy_score(actual, pre)\n",
    "print(score)"
   ]
  },
  {
   "cell_type": "code",
   "execution_count": 136,
   "metadata": {},
   "outputs": [
    {
     "ename": "ValueError",
     "evalue": "Found input variables with inconsistent numbers of samples: [90, 60]",
     "output_type": "error",
     "traceback": [
      "\u001b[1;31m---------------------------------------------------------------------------\u001b[0m",
      "\u001b[1;31mValueError\u001b[0m                                Traceback (most recent call last)",
      "\u001b[1;32m<ipython-input-136-03a57f2f08ce>\u001b[0m in \u001b[0;36m<module>\u001b[1;34m()\u001b[0m\n\u001b[1;32m----> 1\u001b[1;33m \u001b[0maccuracy\u001b[0m \u001b[1;33m=\u001b[0m \u001b[0maccuracy_score\u001b[0m\u001b[1;33m(\u001b[0m\u001b[0mX_Train_Data\u001b[0m\u001b[1;33m,\u001b[0m \u001b[0mX_Test\u001b[0m\u001b[1;33m)\u001b[0m\u001b[1;33m\u001b[0m\u001b[0m\n\u001b[0m",
      "\u001b[1;32mC:\\Users\\Jose\\Anaconda3\\lib\\site-packages\\sklearn\\metrics\\classification.py\u001b[0m in \u001b[0;36maccuracy_score\u001b[1;34m(y_true, y_pred, normalize, sample_weight)\u001b[0m\n\u001b[0;32m    170\u001b[0m \u001b[1;33m\u001b[0m\u001b[0m\n\u001b[0;32m    171\u001b[0m     \u001b[1;31m# Compute accuracy for each possible representation\u001b[0m\u001b[1;33m\u001b[0m\u001b[1;33m\u001b[0m\u001b[0m\n\u001b[1;32m--> 172\u001b[1;33m     \u001b[0my_type\u001b[0m\u001b[1;33m,\u001b[0m \u001b[0my_true\u001b[0m\u001b[1;33m,\u001b[0m \u001b[0my_pred\u001b[0m \u001b[1;33m=\u001b[0m \u001b[0m_check_targets\u001b[0m\u001b[1;33m(\u001b[0m\u001b[0my_true\u001b[0m\u001b[1;33m,\u001b[0m \u001b[0my_pred\u001b[0m\u001b[1;33m)\u001b[0m\u001b[1;33m\u001b[0m\u001b[0m\n\u001b[0m\u001b[0;32m    173\u001b[0m     \u001b[1;32mif\u001b[0m \u001b[0my_type\u001b[0m\u001b[1;33m.\u001b[0m\u001b[0mstartswith\u001b[0m\u001b[1;33m(\u001b[0m\u001b[1;34m'multilabel'\u001b[0m\u001b[1;33m)\u001b[0m\u001b[1;33m:\u001b[0m\u001b[1;33m\u001b[0m\u001b[0m\n\u001b[0;32m    174\u001b[0m         \u001b[0mdiffering_labels\u001b[0m \u001b[1;33m=\u001b[0m \u001b[0mcount_nonzero\u001b[0m\u001b[1;33m(\u001b[0m\u001b[0my_true\u001b[0m \u001b[1;33m-\u001b[0m \u001b[0my_pred\u001b[0m\u001b[1;33m,\u001b[0m \u001b[0maxis\u001b[0m\u001b[1;33m=\u001b[0m\u001b[1;36m1\u001b[0m\u001b[1;33m)\u001b[0m\u001b[1;33m\u001b[0m\u001b[0m\n",
      "\u001b[1;32mC:\\Users\\Jose\\Anaconda3\\lib\\site-packages\\sklearn\\metrics\\classification.py\u001b[0m in \u001b[0;36m_check_targets\u001b[1;34m(y_true, y_pred)\u001b[0m\n\u001b[0;32m     70\u001b[0m     \u001b[0my_pred\u001b[0m \u001b[1;33m:\u001b[0m \u001b[0marray\u001b[0m \u001b[1;32mor\u001b[0m \u001b[0mindicator\u001b[0m \u001b[0mmatrix\u001b[0m\u001b[1;33m\u001b[0m\u001b[0m\n\u001b[0;32m     71\u001b[0m     \"\"\"\n\u001b[1;32m---> 72\u001b[1;33m     \u001b[0mcheck_consistent_length\u001b[0m\u001b[1;33m(\u001b[0m\u001b[0my_true\u001b[0m\u001b[1;33m,\u001b[0m \u001b[0my_pred\u001b[0m\u001b[1;33m)\u001b[0m\u001b[1;33m\u001b[0m\u001b[0m\n\u001b[0m\u001b[0;32m     73\u001b[0m     \u001b[0mtype_true\u001b[0m \u001b[1;33m=\u001b[0m \u001b[0mtype_of_target\u001b[0m\u001b[1;33m(\u001b[0m\u001b[0my_true\u001b[0m\u001b[1;33m)\u001b[0m\u001b[1;33m\u001b[0m\u001b[0m\n\u001b[0;32m     74\u001b[0m     \u001b[0mtype_pred\u001b[0m \u001b[1;33m=\u001b[0m \u001b[0mtype_of_target\u001b[0m\u001b[1;33m(\u001b[0m\u001b[0my_pred\u001b[0m\u001b[1;33m)\u001b[0m\u001b[1;33m\u001b[0m\u001b[0m\n",
      "\u001b[1;32mC:\\Users\\Jose\\Anaconda3\\lib\\site-packages\\sklearn\\utils\\validation.py\u001b[0m in \u001b[0;36mcheck_consistent_length\u001b[1;34m(*arrays)\u001b[0m\n\u001b[0;32m    179\u001b[0m     \u001b[1;32mif\u001b[0m \u001b[0mlen\u001b[0m\u001b[1;33m(\u001b[0m\u001b[0muniques\u001b[0m\u001b[1;33m)\u001b[0m \u001b[1;33m>\u001b[0m \u001b[1;36m1\u001b[0m\u001b[1;33m:\u001b[0m\u001b[1;33m\u001b[0m\u001b[0m\n\u001b[0;32m    180\u001b[0m         raise ValueError(\"Found input variables with inconsistent numbers of\"\n\u001b[1;32m--> 181\u001b[1;33m                          \" samples: %r\" % [int(l) for l in lengths])\n\u001b[0m\u001b[0;32m    182\u001b[0m \u001b[1;33m\u001b[0m\u001b[0m\n\u001b[0;32m    183\u001b[0m \u001b[1;33m\u001b[0m\u001b[0m\n",
      "\u001b[1;31mValueError\u001b[0m: Found input variables with inconsistent numbers of samples: [90, 60]"
     ]
    }
   ],
   "source": [
    "accuracy = accuracy_score( X_Test, X_Train_Data)"
   ]
  },
  {
   "cell_type": "code",
   "execution_count": null,
   "metadata": {
    "collapsed": true
   },
   "outputs": [],
   "source": []
  }
 ],
 "metadata": {
  "kernelspec": {
   "display_name": "Python 3",
   "language": "python",
   "name": "python3"
  },
  "language_info": {
   "codemirror_mode": {
    "name": "ipython",
    "version": 3
   },
   "file_extension": ".py",
   "mimetype": "text/x-python",
   "name": "python",
   "nbconvert_exporter": "python",
   "pygments_lexer": "ipython3",
   "version": "3.6.1"
  }
 },
 "nbformat": 4,
 "nbformat_minor": 2
}
